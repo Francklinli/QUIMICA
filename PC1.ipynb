{
  "nbformat": 4,
  "nbformat_minor": 0,
  "metadata": {
    "colab": {
      "provenance": [],
      "authorship_tag": "ABX9TyPLf3yEgpE0DVTaAG1avHif",
      "include_colab_link": true
    },
    "kernelspec": {
      "name": "python3",
      "display_name": "Python 3"
    },
    "language_info": {
      "name": "python"
    }
  },
  "cells": [
    {
      "cell_type": "markdown",
      "metadata": {
        "id": "view-in-github",
        "colab_type": "text"
      },
      "source": [
        "<a href=\"https://colab.research.google.com/github/Francklinli/QUIMICA/blob/main/PC1.ipynb\" target=\"_parent\"><img src=\"https://colab.research.google.com/assets/colab-badge.svg\" alt=\"Open In Colab\"/></a>"
      ]
    },
    {
      "cell_type": "markdown",
      "source": [
        "Pregunta 1.1"
      ],
      "metadata": {
        "id": "dNXYJalvpjJi"
      }
    },
    {
      "cell_type": "code",
      "execution_count": null,
      "metadata": {
        "colab": {
          "base_uri": "https://localhost:8080/"
        },
        "id": "XMO01asIfqzF",
        "outputId": "fa31b89a-6f67-427e-ab75-a01ea5901bd9"
      },
      "outputs": [
        {
          "output_type": "stream",
          "name": "stdout",
          "text": [
            "Versión de Python:\n",
            "3.10.12 (main, Jun 11 2023, 05:26:28) [GCC 11.4.0]\n",
            "\n",
            "Palabras reservadas de Python:\n",
            "['False', 'None', 'True', 'and', 'as', 'assert', 'async', 'await', 'break', 'class', 'continue', 'def', 'del', 'elif', 'else', 'except', 'finally', 'for', 'from', 'global', 'if', 'import', 'in', 'is', 'lambda', 'nonlocal', 'not', 'or', 'pass', 'raise', 'return', 'try', 'while', 'with', 'yield']\n"
          ]
        }
      ],
      "source": [
        "# Imprimir la versión de Python\n",
        "import sys\n",
        "print(\"Versión de Python:\")\n",
        "print(sys.version)\n",
        "\n",
        "# Imprimir las palabras reservadas de Python para esa versión\n",
        "import keyword\n",
        "print(\"\\nPalabras reservadas de Python:\")\n",
        "print(keyword.kwlist)\n"
      ]
    },
    {
      "cell_type": "markdown",
      "source": [
        "Pregunta 1.2"
      ],
      "metadata": {
        "id": "XUUcpQgypnhn"
      }
    },
    {
      "cell_type": "code",
      "source": [
        "# Crear una matriz de 3x3\n",
        "matriz = [\n",
        "    [1, 2, 3],\n",
        "    [4, 5, 6],\n",
        "    [7, 8, 9]\n",
        "]\n",
        "\n",
        "# Calcular la suma de la diagonal (traza)\n",
        "suma_diagonal = sum(matriz[i][i] for i in range(3))\n",
        "\n",
        "# Imprimir la matriz\n",
        "for fila in matriz:\n",
        "    print(fila)\n",
        "\n",
        "# Imprimir la suma de la diagonal\n",
        "print(\"La suma de la diagonal es:\", suma_diagonal)\n"
      ],
      "metadata": {
        "colab": {
          "base_uri": "https://localhost:8080/"
        },
        "id": "Ay0tSsQ4f70V",
        "outputId": "f3f1f0d0-5240-4aa6-d792-9d4b4dba8ea6"
      },
      "execution_count": null,
      "outputs": [
        {
          "output_type": "stream",
          "name": "stdout",
          "text": [
            "[1, 2, 3]\n",
            "[4, 5, 6]\n",
            "[7, 8, 9]\n",
            "La suma de la diagonal es: 15\n"
          ]
        }
      ]
    },
    {
      "cell_type": "markdown",
      "source": [
        "Pregunta 1.3"
      ],
      "metadata": {
        "id": "M6ZCX9JdppwY"
      }
    },
    {
      "cell_type": "code",
      "source": [
        "# Masa atómica de los elementos (en unidades de masa atómica unificada, u)\n",
        "masa_atomica_C = 12.01  # Carbono\n",
        "masa_atomica_H = 1.01   # Hidrógeno\n",
        "masa_atomica_O = 16.00  # Oxígeno\n",
        "\n",
        "# Fórmula química del etanol (C2H5OH)\n",
        "# Calculamos la masa molecular sumando las masas atómicas de los átomos presentes en la molécula\n",
        "masa_molecular_etanol = (2 * masa_atomica_C) + (6 * masa_atomica_H) + masa_atomica_O\n",
        "\n",
        "# Imprimir la masa molecular del etanol\n",
        "print(\"Masa Molecular del Etanol (C2H5OH):\", masa_molecular_etanol, \"u\")\n"
      ],
      "metadata": {
        "colab": {
          "base_uri": "https://localhost:8080/"
        },
        "id": "hvF3Qkg-gIQo",
        "outputId": "0fe53492-3c81-4e9b-d34f-5ba18df73745"
      },
      "execution_count": null,
      "outputs": [
        {
          "output_type": "stream",
          "name": "stdout",
          "text": [
            "Masa Molecular del Etanol (C2H5OH): 46.08 u\n"
          ]
        }
      ]
    },
    {
      "cell_type": "markdown",
      "source": [
        "Pregunta 1.4"
      ],
      "metadata": {
        "id": "JLCvQwCpprOo"
      }
    },
    {
      "cell_type": "code",
      "source": [
        "# Temperaturas de fusión en grados Celsius\n",
        "temperaturas_celsius = [1538, 660.32, 1084, 1455, 960]\n",
        "\n",
        "# Función para convertir de grados Celsius a Kelvin\n",
        "def celsius_a_kelvin(celsius):\n",
        "    kelvin = celsius + 273.15\n",
        "    return kelvin\n",
        "\n",
        "# Convertir las temperaturas a Kelvin e imprimir\n",
        "temperaturas_kelvin = [celsius_a_kelvin(temp) for temp in temperaturas_celsius]\n",
        "\n",
        "# Imprimir las temperaturas en Kelvin\n",
        "for metal, temperatura in zip([\"Hierro\", \"Aluminio\", \"Cobre\", \"Plata\", \"Oro\"], temperaturas_kelvin):\n",
        "    print(f\"{metal}: {temperatura:.2f} Kelvin\")\n"
      ],
      "metadata": {
        "colab": {
          "base_uri": "https://localhost:8080/"
        },
        "id": "eZt-LgTbo5aC",
        "outputId": "34715e51-9186-4a20-8c2e-c91245729348"
      },
      "execution_count": null,
      "outputs": [
        {
          "output_type": "stream",
          "name": "stdout",
          "text": [
            "Hierro: 1811.15 Kelvin\n",
            "Aluminio: 933.47 Kelvin\n",
            "Cobre: 1357.15 Kelvin\n",
            "Plata: 1728.15 Kelvin\n",
            "Oro: 1233.15 Kelvin\n"
          ]
        }
      ]
    },
    {
      "cell_type": "markdown",
      "source": [
        "Pregunta 2"
      ],
      "metadata": {
        "id": "cLhihzcJpxmA"
      }
    },
    {
      "cell_type": "code",
      "source": [
        "# Diccionario de elementos químicos en español\n",
        "elementos_quimicos = {\n",
        "    \"hidrogeno\": \"H\",\n",
        "    \"helio\": \"He\",\n",
        "    \"litio\": \"Li\",\n",
        "    \"berilio\": \"Be\",\n",
        "    \"boro\": \"B\",\n",
        "    \"carbono\": \"C\",\n",
        "    \"nitrogeno\": \"N\",\n",
        "    \"oxigeno\": \"O\",\n",
        "    \"fluor\": \"F\",\n",
        "    \"neon\": \"Ne\",\n",
        "    \"sodio\": \"Na\",\n",
        "    \"magnesio\": \"Mg\",\n",
        "    \"aluminio\": \"Al\",\n",
        "    \"silicio\": \"Si\",\n",
        "    \"fosforo\": \"P\",\n",
        "    \"azufre\": \"S\",\n",
        "    \"cloro\": \"Cl\",\n",
        "    \"argon\": \"Ar\",\n",
        "    \"potasio\": \"K\",\n",
        "    \"calcio\": \"Ca\",\n",
        "    \"escandio\": \"Sc\",\n",
        "    \"titanio\": \"Ti\",\n",
        "    \"vanadio\": \"V\",\n",
        "    \"cromo\": \"Cr\",\n",
        "    \"manganeso\": \"Mn\",\n",
        "    \"hierro\": \"Fe\",\n",
        "    \"cobalto\": \"Co\",\n",
        "    \"niquel\": \"Ni\",\n",
        "    \"cobre\": \"Cu\",\n",
        "    \"cinc\": \"Zn\",\n",
        "    \"galio\": \"Ga\",\n",
        "    \"germanio\": \"Ge\",\n",
        "    \"arsenico\": \"As\",\n",
        "    \"selenio\": \"Se\",\n",
        "    \"bromo\": \"Br\",\n",
        "    \"kripton\": \"Kr\",\n",
        "    \"rubidio\": \"Rb\",\n",
        "    \"estroncio\": \"Sr\",\n",
        "    \"itrio\": \"Y\",\n",
        "    \"circonio\": \"Zr\",\n",
        "    \"niobio\": \"Nb\",\n",
        "    \"molibdeno\": \"Mo\",\n",
        "    \"tecnecio\": \"Tc\",\n",
        "    \"rutenio\": \"Ru\",\n",
        "    \"rodio\": \"Rh\",\n",
        "    \"paladio\": \"Pd\",\n",
        "    \"plata\": \"Ag\",\n",
        "    \"cadmio\": \"Cd\",\n",
        "    \"indio\": \"In\",\n",
        "    \"estanio\": \"Sn\",\n",
        "    \"antimonio\": \"Sb\",\n",
        "    \"telurio\": \"Te\",\n",
        "    \"yodo\": \"I\",\n",
        "    \"xenon\": \"Xe\",\n",
        "    \"cesio\": \"Cs\",\n",
        "    \"bario\": \"Ba\",\n",
        "    \"lantano\": \"La\",\n",
        "    \"cerio\": \"Ce\",\n",
        "    \"praseodimio\": \"Pr\",\n",
        "    \"neodimio\": \"Nd\",\n",
        "    \"prometio\": \"Pm\",\n",
        "    \"samario\": \"Sm\",\n",
        "    \"europio\": \"Eu\",\n",
        "    \"gadolinio\": \"Gd\",\n",
        "    \"terbio\": \"Tb\",\n",
        "    \"disprosio\": \"Dy\",\n",
        "    \"holmio\": \"Ho\",\n",
        "    \"erbio\": \"Er\",\n",
        "    \"tulio\": \"Tm\",\n",
        "    \"iterbio\": \"Yb\",\n",
        "    \"lutecio\": \"Lu\",\n",
        "    \"hafnio\": \"Hf\",\n",
        "    \"tantalio\": \"Ta\",\n",
        "    \"wolframio\": \"W\",\n",
        "    \"renio\": \"Re\",\n",
        "    \"osmio\": \"Os\",\n",
        "    \"iridio\": \"Ir\",\n",
        "    \"platino\": \"Pt\",\n",
        "    \"oro\": \"Au\",\n",
        "    \"mercurio\": \"Hg\",\n",
        "    \"talio\": \"Tl\",\n",
        "    \"plomo\": \"Pb\",\n",
        "    \"bismuto\": \"Bi\",\n",
        "    \"polonio\": \"Po\",\n",
        "    \"astato\": \"At\",\n",
        "    \"radon\": \"Rn\",\n",
        "    \"francio\": \"Fr\",\n",
        "    \"radio\": \"Ra\",\n",
        "    \"actinio\": \"Ac\",\n",
        "    \"torio\": \"Th\",\n",
        "    \"proactinio\": \"Pa\",\n",
        "    \"uranio\": \"U\",\n",
        "    \"neptunio\": \"Np\",\n",
        "    \"plutonio\": \"Pu\",\n",
        "    \"americio\": \"Am\",\n",
        "    \"curio\": \"Cm\",\n",
        "    \"berkelio\": \"Bk\",\n",
        "    \"californio\": \"Cf\",\n",
        "    \"einstenio\": \"Es\",\n",
        "    \"fermio\": \"Fm\",\n",
        "    \"mendelevio\": \"Md\",\n",
        "    \"nobelio\": \"No\",\n",
        "    \"lawrencio\": \"Lr\",\n",
        "    \"rutherfordio\": \"Rf\",\n",
        "    \"dubnio\": \"Db\",\n",
        "    \"seaborgio\": \"Sg\",\n",
        "    \"bohrio\": \"Bh\",\n",
        "    \"hassio\": \"Hs\",\n",
        "    \"meitnerio\": \"Mt\",\n",
        "    \"darmstatio\": \"Ds\",\n",
        "    \"roentgenio\": \"Rg\",\n",
        "    \"copernicio\": \"Cn\",\n",
        "    \"nihonio\": \"Nh\",\n",
        "    \"flerovio\": \"Fl\",\n",
        "    \"moscovio\": \"Mc\",\n",
        "    \"livermorio\": \"Lv\",\n",
        "    \"teneso\": \"Ts\",\n",
        "    \"oganesson\": \"Og\"\n",
        "}\n",
        "\n",
        "# Inicializar contador de elementos\n",
        "total_elementos = 0\n",
        "\n",
        "# Bucle para leer elementos químicos\n",
        "while True:\n",
        "    elemento = input(\"Introduce un elemento químico en español (o 'fin' para terminar): \").lower()\n",
        "\n",
        "    if elemento == \"fin\":\n",
        "        break  # Salir del bucle si se ingresa \"fin\"\n",
        "\n",
        "    try:\n",
        "        simbolo = elementos_quimicos[elemento]\n",
        "        total_elementos += 1\n",
        "        print(f\"Elemento ingresado: {elemento} ({simbolo})\")\n",
        "    except KeyError:\n",
        "        print(f\"Error: '{elemento}' no es un elemento químico válido en español.\")\n",
        "\n",
        "# Mostrar el total de elementos ingresados\n",
        "print(f\"Total de elementos químicos ingresados: {total_elementos}\")\n"
      ],
      "metadata": {
        "colab": {
          "base_uri": "https://localhost:8080/"
        },
        "id": "k0Ltra3PpxNP",
        "outputId": "53d9c6a9-5289-42e9-8c30-9c4fcc2e9da5"
      },
      "execution_count": null,
      "outputs": [
        {
          "output_type": "stream",
          "name": "stdout",
          "text": [
            "Introduce un elemento químico en español (o 'fin' para terminar): oxigeno\n",
            "Elemento ingresado: oxigeno (O)\n",
            "Introduce un elemento químico en español (o 'fin' para terminar): fin\n",
            "Total de elementos químicos ingresados: 1\n"
          ]
        }
      ]
    },
    {
      "cell_type": "markdown",
      "source": [
        "Pregunta 3"
      ],
      "metadata": {
        "id": "AusHuWoH21Eo"
      }
    },
    {
      "cell_type": "code",
      "source": [
        "# Definición de las masas molares de los elementos en g/mol\n",
        "masa_molar_C = 12.01\n",
        "masa_molar_H = 1.01\n",
        "masa_molar_O = 16.00\n",
        "\n",
        "# Cantidad de átomos de cada elemento en la glucosa\n",
        "n_C = 6\n",
        "n_H = 12\n",
        "n_O = 6\n",
        "\n",
        "# Cálculo de la masa molecular de la glucosa\n",
        "masa_molecular_glucosa = n_C * masa_molar_C + n_H * masa_molar_H + n_O * masa_molar_O\n",
        "print(\"Masa molecular de la glucosa:\", masa_molecular_glucosa)\n",
        "\n",
        "# Cálculo de la masa molecular del oxígeno\n",
        "masa_molecular_oxigeno = 2 * masa_molar_O\n",
        "print(\"Masa molecular del oxígeno:\", masa_molecular_oxigeno)\n",
        "\n",
        "# Cálculo de la masa molecular del dióxido de carbono\n",
        "masa_molecular_CO2 = masa_molar_C + 2 * masa_molar_O\n",
        "print(\"Masa molecular del CO2:\", masa_molecular_CO2)\n",
        "\n",
        "# Cálculo de la masa molecular del agua\n",
        "masa_molecular_agua = masa_molar_H * 2 + masa_molar_O\n",
        "print(\"Masa molecular del agua:\", masa_molecular_agua)\n",
        "\n",
        "# Cálculo de la masa de los reactivos y productos\n",
        "masa_reactivos = masa_molecular_glucosa + masa_molecular_oxigeno\n",
        "masa_productos = masa_molecular_CO2 + masa_molecular_agua\n",
        "\n",
        "print(\"Masa de los reactivos:\", masa_reactivos)\n",
        "print(\"Masa de los productos:\", masa_productos)\n",
        "\n",
        "# Verificación de la conservación de la masa\n",
        "if masa_reactivos == masa_productos:\n",
        "    print(\"La conservación de la masa se cumple.\")\n",
        "else:\n",
        "    print(\"La conservación de la masa no se cumple.\")\n"
      ],
      "metadata": {
        "colab": {
          "base_uri": "https://localhost:8080/"
        },
        "id": "eE1Sm8mmnGWw",
        "outputId": "330c7b17-ba44-46f9-9adb-20439341f80e"
      },
      "execution_count": null,
      "outputs": [
        {
          "output_type": "stream",
          "name": "stdout",
          "text": [
            "Masa molecular de la glucosa: 180.18\n",
            "Masa molecular del oxígeno: 32.0\n",
            "Masa molecular del CO2: 44.01\n",
            "Masa molecular del agua: 18.02\n",
            "Masa de los reactivos: 212.18\n",
            "Masa de los productos: 62.03\n",
            "La conservación de la masa no se cumple.\n"
          ]
        }
      ]
    },
    {
      "cell_type": "markdown",
      "source": [
        "Pregunta 4"
      ],
      "metadata": {
        "id": "3me6UEMUov9J"
      }
    },
    {
      "cell_type": "code",
      "source": [
        "# Definición de los números en notación científica\n",
        "num1 = 1.71e3\n",
        "num2 = 2.01e2\n",
        "\n",
        "# Realización de la operación\n",
        "resultado = num1 - num2\n",
        "\n",
        "# Imprimir el resultado\n",
        "print(resultado)\n"
      ],
      "metadata": {
        "colab": {
          "base_uri": "https://localhost:8080/"
        },
        "id": "TwBNm_OooCsw",
        "outputId": "9285ce6b-4688-4d17-a23d-b85fcf754b24"
      },
      "execution_count": null,
      "outputs": [
        {
          "output_type": "stream",
          "name": "stdout",
          "text": [
            "1509.0\n"
          ]
        }
      ]
    },
    {
      "cell_type": "markdown",
      "source": [
        "Pregunta 5"
      ],
      "metadata": {
        "id": "OgxFprVCo6AK"
      }
    },
    {
      "cell_type": "code",
      "source": [
        "texto = \"\"\"\n",
        "Los investigadores han resuelto el enigma de LK-99 y han descubierto que no es un superconductor como se afirmaba anteriormente, sino que tiene propiedades diferentes. Esto desilusiona la esperanza de que LK-99 fuera el primer superconductor que funcionara a temperatura ambiente y presión normal. Se ha demostrado que las impurezas en el material, en particular el sulfuro de cobre, son responsables de las caídas bruscas en su resistividad eléctrica y de una levitación parcial sobre un imán, propiedades similares a las de los superconductores. Aunque se había generado una gran expectación en torno a LK-99, varios equipos de investigación han concluido que no es un superconductor a temperatura ambiente, sino un aislante. La confirmación definitiva requeriría que el equipo surcoreano compartiera sus muestras para su análisis. En resumen, LK-99 no es un superconductor y su supuesta levitación se debe a impurezas en el material, como el sulfuro de cobre.\n",
        "\n",
        "print(texto)\n"
      ],
      "metadata": {
        "id": "brb0nHPVo5kh"
      },
      "execution_count": null,
      "outputs": []
    }
  ]
}