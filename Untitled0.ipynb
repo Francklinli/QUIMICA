{
  "nbformat": 4,
  "nbformat_minor": 0,
  "metadata": {
    "colab": {
      "provenance": [],
      "authorship_tag": "ABX9TyMRvErvjXY4lgzvc4nZN8PN",
      "include_colab_link": true
    },
    "kernelspec": {
      "name": "python3",
      "display_name": "Python 3"
    },
    "language_info": {
      "name": "python"
    }
  },
  "cells": [
    {
      "cell_type": "markdown",
      "metadata": {
        "id": "view-in-github",
        "colab_type": "text"
      },
      "source": [
        "<a href=\"https://colab.research.google.com/github/Francklinli/QUIMICA/blob/main/Untitled0.ipynb\" target=\"_parent\"><img src=\"https://colab.research.google.com/assets/colab-badge.svg\" alt=\"Open In Colab\"/></a>"
      ]
    },
    {
      "cell_type": "markdown",
      "source": [
        "# Cinética y Termodinámica\n",
        "\n",
        "\n"
      ],
      "metadata": {
        "id": "Z5pc-IJna_Y-"
      }
    },
    {
      "cell_type": "markdown",
      "source": [
        "Liñan Prado Francklin Efrain"
      ],
      "metadata": {
        "id": "OdZDf0rZc67w"
      }
    },
    {
      "cell_type": "markdown",
      "source": [
        "[1] Instalación de librerías"
      ],
      "metadata": {
        "id": "ZB5ocmvgb-bf"
      }
    },
    {
      "cell_type": "code",
      "source": [
        "  %%capture\n",
        "  !pip install rdkit\n",
        "  !pip install pyscf\n",
        ""
      ],
      "metadata": {
        "id": "qx7TkPWCbSiP"
      },
      "execution_count": null,
      "outputs": []
    },
    {
      "cell_type": "code",
      "source": [
        "# Importamos librerías\n",
        "from rdkit import Chem\n",
        "from rdkit.Chem import Draw\n",
        "from rdkit.Chem import AllChem\n",
        "from rdkit.Chem.Draw import IPythonConsole\n",
        "IPythonConsole.drawOptions.addAtomIndices = True\n",
        "from pyscf import gto, scf"
      ],
      "metadata": {
        "id": "EdmhU8A9bVQV"
      },
      "execution_count": null,
      "outputs": []
    },
    {
      "cell_type": "markdown",
      "source": [
        "[2] Estructuras"
      ],
      "metadata": {
        "id": "NMbMwHuXbYUX"
      }
    },
    {
      "cell_type": "markdown",
      "source": [
        "Isómero ac"
      ],
      "metadata": {
        "id": "hsaNpOEPbiHP"
      }
    },
    {
      "cell_type": "code",
      "source": [
        "# representación SMILES del isómero ac\n",
        "smi_ac = \"C\\C=C/C\"\n",
        "# elemento de RDKit\n",
        "ac = Chem.MolFromSmiles(smi_ac)\n",
        "# agregamos sus hidrógenos\n",
        "ac = Chem.AddHs(ac)\n",
        "# etiquetamos sus átomos y generamos sus coordenadas usando una semilla\n",
        "Chem.AllChem.EmbedMolecule(ac, useRandomCoords=False,randomSeed=1234)\n",
        "# guardamos a un archivo XYZ\n",
        "Chem.MolToXYZFile(ac, \"ac.xyz\")"
      ],
      "metadata": {
        "id": "W6sSONxBbgSG"
      },
      "execution_count": null,
      "outputs": []
    },
    {
      "cell_type": "code",
      "source": [
        "#visualizamos\n",
        "ac"
      ],
      "metadata": {
        "id": "dboDKdztcZR2"
      },
      "execution_count": null,
      "outputs": []
    },
    {
      "cell_type": "markdown",
      "source": [
        "![descarga.png](data:image/png;base64,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)"
      ],
      "metadata": {
        "id": "-VdFtvTdcblN"
      }
    },
    {
      "cell_type": "code",
      "source": [
        "# visualizamos las coordenadas en el archivo XYZ\n",
        "!cat initial_cis.xyz"
      ],
      "metadata": {
        "id": "_PPreTgddIwd"
      },
      "execution_count": null,
      "outputs": []
    },
    {
      "cell_type": "markdown",
      "source": [
        "12\n",
        "\n",
        "C     -1.454705   -0.292919   -0.013898\n",
        "\n",
        "C     -0.609272    0.895974    0.013293\n",
        "\n",
        "C      0.707521    0.759139    0.014986\n",
        "\n",
        "C      1.415436   -0.521933   -0.008790\n",
        "\n",
        "H     -2.019854   -0.410770    0.958449\n",
        "\n",
        "H     -0.953309   -1.236861   -0.195028\n",
        "\n",
        "H     -2.263645   -0.203756   -0.795167\n",
        "\n",
        "H     -1.069498    1.869316    0.031627\n",
        "\n",
        "H      1.281672    1.693770    0.036127\n",
        "\n",
        "H      1.477006   -0.937039    1.022138\n",
        "\n",
        "H      2.476790   -0.358196   -0.325258\n",
        "\n",
        "H      1.011859   -1.256726   -0.738478\n"
      ],
      "metadata": {
        "id": "kJQPj6vG93wB"
      }
    },
    {
      "cell_type": "markdown",
      "source": [
        "**Isómero TRANS**"
      ],
      "metadata": {
        "id": "6BT--v3B-XeN"
      }
    },
    {
      "cell_type": "code",
      "source": [
        "smi_trans = \"F/C=C/C\"\n",
        "trans = Chem.MolFromSmiles(smi_trans)\n",
        "trans = Chem.AddHs(trans)\n",
        "Chem.AllChem.EmbedMolecule(trans, useRandomCoords=False,randomSeed=1234)\n",
        "Chem.MolToXYZFile(trans, \"trans.xyz\")"
      ],
      "metadata": {
        "id": "4EftR91v956X"
      },
      "execution_count": null,
      "outputs": []
    },
    {
      "cell_type": "code",
      "source": [
        "trans"
      ],
      "metadata": {
        "id": "cjNP80V4-ozr"
      },
      "execution_count": null,
      "outputs": []
    },
    {
      "cell_type": "markdown",
      "source": [
        "![image.png](data:image/png;base64,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)"
      ],
      "metadata": {
        "id": "Mq5KoNRg-sZ2"
      }
    },
    {
      "cell_type": "code",
      "source": [
        "!cat trans.xyz"
      ],
      "metadata": {
        "id": "y7Us7aws-t6-"
      },
      "execution_count": null,
      "outputs": []
    },
    {
      "cell_type": "markdown",
      "source": [
        "9\n",
        "\n",
        "F      2.548043    0.255798   -0.051804\n",
        "\n",
        "C      1.310325   -0.297546    0.040056\n",
        "\n",
        "C      0.243682    0.487148   -0.067889\n",
        "\n",
        "C     -1.128832   -0.079367    0.026988\n",
        "\n",
        "H      1.169516   -1.367331    0.199862\n",
        "\n",
        "H      0.416502    1.563075   -0.228819\n",
        "\n",
        "H     -1.412747   -0.391958    1.029624\n",
        "\n",
        "H     -1.305683   -0.908523   -0.662271\n",
        "\n",
        "H     -1.840807    0.738703   -0.285747"
      ],
      "metadata": {
        "id": "wbXi53qJ-wj2"
      }
    },
    {
      "cell_type": "markdown",
      "source": [
        "**Diedro = 90.0º **"
      ],
      "metadata": {
        "id": "OyEqSgz__HBl"
      }
    },
    {
      "cell_type": "code",
      "source": [
        "\n",
        "Chem.AllChem.SetDihedralDeg(cis.GetConformer(0),3,2,1,0,90.0)\n",
        "Chem.MolToXYZFile(cis, \"diedro90.xyz\")\n",
        "cis"
      ],
      "metadata": {
        "id": "kjur4ARr_JUi"
      },
      "execution_count": null,
      "outputs": []
    },
    {
      "cell_type": "markdown",
      "source": [
        "![image.png](data:image/png;base64,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)"
      ],
      "metadata": {
        "id": "pzSpemB__MZv"
      }
    },
    {
      "cell_type": "code",
      "source": [
        "\n",
        "!cat diedro90.xyz"
      ],
      "metadata": {
        "id": "1KlBRjLH_OJ9"
      },
      "execution_count": null,
      "outputs": []
    },
    {
      "cell_type": "markdown",
      "source": [
        "12\n",
        "\n",
        "C     -1.005783    0.709031   -1.487268\n",
        "\n",
        "C     -0.483747    0.430759   -0.119909\n",
        "\n",
        "C      0.472193   -0.465591    0.089735\n",
        "\n",
        "C      1.908739   -0.029299    0.048534\n",
        "\n",
        "H     -0.388895    1.461747   -1.994253\n",
        "\n",
        "H     -0.976485   -0.241807   -2.084937\n",
        "\n",
        "H     -2.086588    1.027623   -1.419621\n",
        "\n",
        "H     -0.872133    0.957241    0.757571\n",
        "\n",
        "H      0.219678   -1.501990    0.288729\n",
        "\n",
        "H      2.024910    0.986283    0.513156\n",
        "\n",
        "H      2.309293   -0.076310   -0.966529\n",
        "\n",
        "H      2.498803   -0.722684    0.706911\n"
      ],
      "metadata": {
        "id": "VNOZmV74_QRf"
      }
    },
    {
      "cell_type": "markdown",
      "source": [
        "[3] Cálculo de energía"
      ],
      "metadata": {
        "id": "Erc9iDeA_YBY"
      }
    },
    {
      "cell_type": "markdown",
      "source": [
        "CIS"
      ],
      "metadata": {
        "id": "t3VbY4Wz_Yw1"
      }
    },
    {
      "cell_type": "code",
      "source": [
        "trans = gto.M(atom=\"trans.xyz\")\n"
      ],
      "metadata": {
        "id": "9HA81sBj_Wl_"
      },
      "execution_count": null,
      "outputs": []
    },
    {
      "cell_type": "code",
      "source": [
        "cis.basis = \"6-31G\"\n",
        "mf_cis = cis.KS()\n",
        "mf_cis.xc = 'b3lyp'\n",
        ""
      ],
      "metadata": {
        "id": "UrUAv5s6_fLE"
      },
      "execution_count": null,
      "outputs": []
    },
    {
      "cell_type": "code",
      "source": [
        "resultado_trans= mf_trans.kernel()\n",
        "resultado_trans\n",
        ""
      ],
      "metadata": {
        "id": "3lfpj0Qn_gh6"
      },
      "execution_count": null,
      "outputs": []
    },
    {
      "cell_type": "markdown",
      "source": [
        "converged SCF energy = -155.319339142005\n",
        "\n",
        "-155.31933914200505"
      ],
      "metadata": {
        "id": "ZVHExdNi_ir1"
      }
    },
    {
      "cell_type": "markdown",
      "source": [
        "**Diedro 90**"
      ],
      "metadata": {
        "id": "5snOKD22_lks"
      }
    },
    {
      "cell_type": "code",
      "source": [
        "cis_90 = gto.M(atom=\"diedro90.xyz\")\n"
      ],
      "metadata": {
        "id": "QD4eXixF_kEd"
      },
      "execution_count": null,
      "outputs": []
    },
    {
      "cell_type": "code",
      "source": [
        "cis_90.basis = \"6-31G\"\n",
        "mf_90 = cis_90.KS()\n",
        "mf_90.xc = 'b3lyp'\n",
        ""
      ],
      "metadata": {
        "id": "zN2l28MYAOAq"
      },
      "execution_count": null,
      "outputs": []
    },
    {
      "cell_type": "code",
      "source": [
        "resultado_cis_90 = mf_90.kernel()\n",
        "resultado_cis_90"
      ],
      "metadata": {
        "id": "IXMj1BKWAPJn"
      },
      "execution_count": null,
      "outputs": []
    },
    {
      "cell_type": "markdown",
      "source": [
        "converged SCF energy = -155.019339142005\n",
        "\n",
        "-155.01933914200505"
      ],
      "metadata": {
        "id": "5qPLaSsBAQfN"
      }
    },
    {
      "cell_type": "markdown",
      "source": [
        "**TRANS**"
      ],
      "metadata": {
        "id": "-TEa2Pa-ASMJ"
      }
    },
    {
      "cell_type": "code",
      "source": [
        "trans = gto.M(atom=\"trans.xyz\")"
      ],
      "metadata": {
        "id": "i1TwVtvGAlW_"
      },
      "execution_count": null,
      "outputs": []
    },
    {
      "cell_type": "code",
      "source": [
        "trans.basis = \"6-31G\"\n",
        "mf_trans = trans.KS()\n",
        "mf_trans.xc = 'b3lyp'"
      ],
      "metadata": {
        "id": "_p8tXL1zAnld"
      },
      "execution_count": null,
      "outputs": []
    },
    {
      "cell_type": "code",
      "source": [
        "resultado_trans= mf_trans.kernel()\n",
        "resultado_trans"
      ],
      "metadata": {
        "id": "518d4fgTAonX"
      },
      "execution_count": null,
      "outputs": []
    },
    {
      "cell_type": "markdown",
      "source": [
        "converged SCF energy = -155.3137044659\n",
        "\n",
        "-155.31370446590023"
      ],
      "metadata": {
        "id": "oprB6HmaAqPt"
      }
    },
    {
      "cell_type": "markdown",
      "source": [
        "**4. Gráfica**"
      ],
      "metadata": {
        "id": "Q6HahgRrAuPe"
      }
    },
    {
      "cell_type": "code",
      "source": [
        "%%capture\n",
        "!pip install git+https://github.com/giacomomarchioro/PyEnergyDiagrams"
      ],
      "metadata": {
        "id": "JcsJnNjeAwAS"
      },
      "execution_count": null,
      "outputs": []
    },
    {
      "cell_type": "code",
      "source": [
        "import matplotlib.pyplot as plt\n",
        "from energydiagram import ED"
      ],
      "metadata": {
        "id": "Q2GUF_ySAyYT"
      },
      "execution_count": null,
      "outputs": []
    },
    {
      "cell_type": "code",
      "source": [
        "diagram = ED()\n",
        "diagram.add_level(resultado_cis,'Cis',color='y')\n",
        "diagram.add_level(resultado_cis_90,'TS',color='r')\n",
        "diagram.add_level(resultado_trans,'trans',color='g')\n",
        "\n",
        "diagram.add_link(0,1)\n",
        "diagram.add_link(1,2)\n",
        "diagram.plot(ylabel=\"Energy\") # /kcal mol-1\")"
      ],
      "metadata": {
        "id": "yi9GR9j7A0re"
      },
      "execution_count": null,
      "outputs": []
    },
    {
      "cell_type": "markdown",
      "source": [
        "![image.png](data:image/png;base64,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)"
      ],
      "metadata": {
        "id": "5bW6L_isBAxJ"
      }
    },
    {
      "cell_type": "markdown",
      "source": [
        "Cinética:"
      ],
      "metadata": {
        "id": "EMYTG_ORBHRf"
      }
    },
    {
      "cell_type": "code",
      "source": [
        "E_activacion = resultado_cis_90 - resultado_cis\n",
        "E_activacion\n",
        ""
      ],
      "metadata": {
        "id": "uccq9aRcBBgP"
      },
      "execution_count": null,
      "outputs": []
    },
    {
      "cell_type": "markdown",
      "source": [
        "0.18009260793854764\n"
      ],
      "metadata": {
        "id": "MNlUTicUBM4D"
      }
    },
    {
      "cell_type": "markdown",
      "source": [
        "**Termodinámica **"
      ],
      "metadata": {
        "id": "z4nS-kUwBPf3"
      }
    },
    {
      "cell_type": "code",
      "source": [
        "entalpia = resultado_trans - resultado_cis\n",
        "if entalpia>0:\n",
        "  print(\"La reacción es endotérmica\")\n",
        "else:\n",
        "    print(\"La reacción es exotérmica\")"
      ],
      "metadata": {
        "id": "R0NcnoH3BJnH"
      },
      "execution_count": null,
      "outputs": []
    },
    {
      "cell_type": "markdown",
      "source": [
        "La reacción es endotérmica"
      ],
      "metadata": {
        "id": "gDP82skMBUwf"
      }
    }
  ]
}